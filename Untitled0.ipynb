{
  "nbformat": 4,
  "nbformat_minor": 0,
  "metadata": {
    "colab": {
      "provenance": [],
      "authorship_tag": "ABX9TyOkloWM+gquO4Xx9GeiZ5mg",
      "include_colab_link": true
    },
    "kernelspec": {
      "name": "python3",
      "display_name": "Python 3"
    },
    "language_info": {
      "name": "python"
    }
  },
  "cells": [
    {
      "cell_type": "markdown",
      "metadata": {
        "id": "view-in-github",
        "colab_type": "text"
      },
      "source": [
        "<a href=\"https://colab.research.google.com/github/rama1904/Proyecto-Aliado-Tiempo/blob/main/Untitled0.ipynb\" target=\"_parent\"><img src=\"https://colab.research.google.com/assets/colab-badge.svg\" alt=\"Open In Colab\"/></a>"
      ]
    },
    {
      "cell_type": "code",
      "source": [
        "!pip install openai==0.28\n",
        "import openai\n",
        "import os\n",
        "import requests\n",
        "from io import BytesIO\n",
        "from PIL import Image\n",
        "from IPython.display import display\n"
      ],
      "metadata": {
        "colab": {
          "base_uri": "https://localhost:8080/"
        },
        "id": "qD5ynlsoni2g",
        "outputId": "a51d68fd-1a43-47b3-e791-e1230e9dd41c"
      },
      "execution_count": null,
      "outputs": [
        {
          "output_type": "stream",
          "name": "stdout",
          "text": [
            "Requirement already satisfied: openai==0.28 in /usr/local/lib/python3.11/dist-packages (0.28.0)\n",
            "Requirement already satisfied: requests>=2.20 in /usr/local/lib/python3.11/dist-packages (from openai==0.28) (2.32.3)\n",
            "Requirement already satisfied: tqdm in /usr/local/lib/python3.11/dist-packages (from openai==0.28) (4.67.1)\n",
            "Requirement already satisfied: aiohttp in /usr/local/lib/python3.11/dist-packages (from openai==0.28) (3.11.12)\n",
            "Requirement already satisfied: charset-normalizer<4,>=2 in /usr/local/lib/python3.11/dist-packages (from requests>=2.20->openai==0.28) (3.4.1)\n",
            "Requirement already satisfied: idna<4,>=2.5 in /usr/local/lib/python3.11/dist-packages (from requests>=2.20->openai==0.28) (3.10)\n",
            "Requirement already satisfied: urllib3<3,>=1.21.1 in /usr/local/lib/python3.11/dist-packages (from requests>=2.20->openai==0.28) (2.3.0)\n",
            "Requirement already satisfied: certifi>=2017.4.17 in /usr/local/lib/python3.11/dist-packages (from requests>=2.20->openai==0.28) (2025.1.31)\n",
            "Requirement already satisfied: aiohappyeyeballs>=2.3.0 in /usr/local/lib/python3.11/dist-packages (from aiohttp->openai==0.28) (2.4.6)\n",
            "Requirement already satisfied: aiosignal>=1.1.2 in /usr/local/lib/python3.11/dist-packages (from aiohttp->openai==0.28) (1.3.2)\n",
            "Requirement already satisfied: attrs>=17.3.0 in /usr/local/lib/python3.11/dist-packages (from aiohttp->openai==0.28) (25.1.0)\n",
            "Requirement already satisfied: frozenlist>=1.1.1 in /usr/local/lib/python3.11/dist-packages (from aiohttp->openai==0.28) (1.5.0)\n",
            "Requirement already satisfied: multidict<7.0,>=4.5 in /usr/local/lib/python3.11/dist-packages (from aiohttp->openai==0.28) (6.1.0)\n",
            "Requirement already satisfied: propcache>=0.2.0 in /usr/local/lib/python3.11/dist-packages (from aiohttp->openai==0.28) (0.2.1)\n",
            "Requirement already satisfied: yarl<2.0,>=1.17.0 in /usr/local/lib/python3.11/dist-packages (from aiohttp->openai==0.28) (1.18.3)\n"
          ]
        }
      ]
    },
    {
      "cell_type": "code",
      "source": [
        "#Prompt texto-texto\n",
        "import openai\n",
        "\n",
        "# Configura la clave API\n",
        "openai.api_key = \"PONE_TU_API_KEY\"\n",
        "\n",
        "# Realiza la llamada para generar el chat\n",
        "cliente = openai.ChatCompletion.create(\n",
        "    model=\"gpt-4o\",\n",
        "    messages=[\n",
        "        {\n",
        "            \"role\": \"user\",\n",
        "            \"content\": \"Podrias ayudarme a saber ¿Cuáles son las señales de una mala organización del tiempo?\",\n",
        "        }\n",
        "    ],\n",
        ")\n",
        "\n",
        "# Imprime la respuesta\n",
        "print(cliente.choices[0].message[\"content\"])\n",
        "\n",
        "\n",
        "#Prompt texto-imagen\n",
        "\n",
        "import openai\n",
        "import requests\n",
        "from io import BytesIO\n",
        "from PIL import Image\n",
        "\n",
        "#Configurando la API KEY\n",
        "openai.api_key = \"PONE_TU_API_KEY\"\n",
        "\n",
        "prompt_usuario = input(\"Mostrarme paso por paso como podria organizar tiempos\")\n",
        "\n",
        "#Generar la imagen\n",
        "response = openai.Image.create(\n",
        "    model=\"dall-e-3\",\n",
        "    prompt = prompt_usuario,\n",
        "    size = \"1024x1024\"\n",
        ")\n",
        "\n",
        "#Obteniendo el link de la imagen generada\n",
        "url_image = response['data'][0]['url']\n",
        "print(url_image)\n",
        "\n",
        "#guardar imagen\n",
        "imagen = Image.open(BytesIO(requests.get(url_image).content))\n",
        "imagen.save('imagen.png')"
      ],
      "metadata": {
        "colab": {
          "base_uri": "https://localhost:8080/"
        },
        "id": "lSEvn4TRphdo",
        "outputId": "91f6580c-d2a0-457b-ad96-3e01bf5dd41b"
      },
      "execution_count": 5,
      "outputs": [
        {
          "output_type": "stream",
          "name": "stdout",
          "text": [
            "Por supuesto, la mala organización del tiempo puede manifestarse de varias formas. Aquí te detallo algunas señales que podrían indicar que hay problemas en este aspecto:\n",
            "\n",
            "1. **Procrastinación frecuente**: Posponer tareas importantes repetidamente es una clara señal de problemas en la gestión del tiempo.\n",
            "\n",
            "2. **Retrasos constantes**: Llegar tarde regularmente a citas, reuniones o plazos puede indicar una falta de planificación adecuada.\n",
            "\n",
            "3. **Estrés y ansiedad**: Sentirse continuamente estresado o ansioso por no tener suficiente tiempo para completar tareas puede ser un indicativo de mala organización.\n",
            "\n",
            "4. **Multitarea ineficaz**: Intentar hacer múltiples cosas a la vez y no completar ninguna de manera efectiva puede ser señal de una mala administración del tiempo.\n",
            "\n",
            "5. **Olvidos frecuentes**: Olvidar citas, reuniones o tareas es una señal de desorganización personal y falta de un sistema eficaz de recordatorios o planificación.\n",
            "\n",
            "6. **Pérdida de plazos**: No cumplir con fechas límite regularmente es un signo claro de que la gestión del tiempo necesita mejorar.\n",
            "\n",
            "7. **Falta de prioridades**: No saber qué tareas son más importantes o urgentes y, por lo tanto, dedicar tiempo a tareas menos relevantes.\n",
            "\n",
            "8. **Interrupciones constantes**: Ser fácilmente distraído por cosas menores y no poder concentrarse en las tareas que realmente importan.\n",
            "\n",
            "9. **Sobrecarga de trabajo**: Asumir más tareas de las que se pueden manejar debido a la falta de planificación y evaluación realista de las capacidades propias.\n",
            "\n",
            "10. **Poco tiempo libre**: No tener tiempo para actividades personales, lo cual puede indicar que se está dedicando demasiado tiempo al trabajo o a tareas poco importantes.\n",
            "\n",
            "Si te ves reflejado en varias de estas situaciones, puede ser útil adoptar algunas técnicas de gestión del tiempo, como el uso de listas de tareas, establecer prioridades, y asignar tiempos específicos para cada actividad.\n",
            "Mostrarme paso por paso como podria organizar tiempos1. Anotar todas las tareas Registro absolutamente todo lo que tengo que hacer. No dejo nada librado a la memoria, así evito olvidos y tengo claridad sobre mis responsabilidades.  2. Establecer prioridades Clasifico cada tarea según su importancia y urgencia. Esto me permite enfocarme en lo realmente relevante antes de que se convierta en un problema.  3. Asignar bloques de tiempo Organizo mis actividades en franjas horarias específicas para asegurarme de dedicar el tiempo necesario a cada una sin interrupciones ni distracciones.  4. Utilizar recordatorios y herramientas de gestión Configuro alarmas o notificaciones para no perder de vista mis compromisos. Además, me apoyo en herramientas digitales que facilitan la planificación y el seguimiento de mis tareas.  5. Medir el tiempo real de cada actividad Analizo cuánto tiempo me lleva realmente cada tarea para evitar subestimar o sobrestimar su duración. De esta manera, ajusto mejor mi planificación.  6. Incluir margen para imprevistos Dejo espacios entre actividades para poder manejar imprevistos sin que afecten el resto de mi planificación.  7. Revisar y ajustar el plan periódicamente Cada cierto tiempo evalúo si mi organización está funcionando y hago modificaciones si es necesario para mejorar la eficiencia.  Siguiendo estos pasos, optimizo mi tiempo y mantengo un equilibrio entre productividad y bienestar.\n",
            "https://oaidalleapiprodscus.blob.core.windows.net/private/org-IXDq1dCDgarIuZWhdHKtZkAE/user-SEt9Y5ffv9NZbD7CqPSykGWk/img-p2K6gARC9wG7CBgGb12ztdYH.png?st=2025-02-18T15%3A36%3A37Z&se=2025-02-18T17%3A36%3A37Z&sp=r&sv=2024-08-04&sr=b&rscd=inline&rsct=image/png&skoid=d505667d-d6c1-4a0a-bac7-5c84a87759f8&sktid=a48cca56-e6da-484e-a814-9c849652bcb3&skt=2025-02-18T06%3A00%3A52Z&ske=2025-02-19T06%3A00%3A52Z&sks=b&skv=2024-08-04&sig=y6zcO/3BDvEz2n%2BZTgK9liEwYaHY5N2qNYMIZyQOQK4%3D\n"
          ]
        }
      ]
    }
  ]
}